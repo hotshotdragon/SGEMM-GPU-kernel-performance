{
 "cells": [
  {
   "cell_type": "markdown",
   "metadata": {},
   "source": [
    "## Project #1\n",
    "##### By Chintan Shah, Sajal Vasal and Sunil Madkar"
   ]
  },
  {
   "cell_type": "markdown",
   "metadata": {},
   "source": [
    "## Dataset Information\n",
    "This data set measures the running time of a matrix-matrix product A*B = C, where all matrices have size 2048 x 2048, using a parameterizable SGEMM GPU kernel with 241600 possible parameter combinations. For each tested combination, 4 runs were performed and their results are reported as the 4 last columns. All times are measured in milliseconds*.\n",
    "\n",
    "There are 14 parameter, the first 10 are ordinal and can only take up to 4 different powers of two values, and the 4 last variables are binary. Out of 1327104 total parameter combinations, only 241600 are feasible (due to various kernel constraints). This data set contains the results for all these feasible combinations.\n",
    "\n",
    "The experiment was run on a desktop workstation running Ubuntu 16.04 Linux with an Intel Core i5 (3.5GHz), 16GB RAM, and a NVidia Geforce GTX 680 4GB GF580 GTX-1.5GB GPU. We use the 'gemm_fast' kernel from the automatic OpenCL kernel tuning library 'CLTune' ([Web Link])."
   ]
  },
  {
   "cell_type": "markdown",
   "metadata": {},
   "source": [
    "### Objective\n",
    "Implement regression model on the dataset to predict the GPU run time. \n",
    "Use the average of four runs as the target variable."
   ]
  },
  {
   "cell_type": "code",
   "execution_count": 1,
   "metadata": {},
   "outputs": [],
   "source": [
    "import pandas as pd\n",
    "import numpy as np\n",
    "import matplotlib.pyplot as plt\n",
    "%matplotlib inline\n",
    "import seaborn as sns"
   ]
  },
  {
   "cell_type": "code",
   "execution_count": 2,
   "metadata": {},
   "outputs": [
    {
     "data": {
      "text/html": [
       "<div>\n",
       "<style scoped>\n",
       "    .dataframe tbody tr th:only-of-type {\n",
       "        vertical-align: middle;\n",
       "    }\n",
       "\n",
       "    .dataframe tbody tr th {\n",
       "        vertical-align: top;\n",
       "    }\n",
       "\n",
       "    .dataframe thead th {\n",
       "        text-align: right;\n",
       "    }\n",
       "</style>\n",
       "<table border=\"1\" class=\"dataframe\">\n",
       "  <thead>\n",
       "    <tr style=\"text-align: right;\">\n",
       "      <th></th>\n",
       "      <th>MWG</th>\n",
       "      <th>NWG</th>\n",
       "      <th>KWG</th>\n",
       "      <th>MDIMC</th>\n",
       "      <th>NDIMC</th>\n",
       "      <th>MDIMA</th>\n",
       "      <th>NDIMB</th>\n",
       "      <th>KWI</th>\n",
       "      <th>VWM</th>\n",
       "      <th>VWN</th>\n",
       "      <th>STRM</th>\n",
       "      <th>STRN</th>\n",
       "      <th>SA</th>\n",
       "      <th>SB</th>\n",
       "      <th>Run1 (ms)</th>\n",
       "      <th>Run2 (ms)</th>\n",
       "      <th>Run3 (ms)</th>\n",
       "      <th>Run4 (ms)</th>\n",
       "    </tr>\n",
       "  </thead>\n",
       "  <tbody>\n",
       "    <tr>\n",
       "      <th>0</th>\n",
       "      <td>16</td>\n",
       "      <td>16</td>\n",
       "      <td>16</td>\n",
       "      <td>8</td>\n",
       "      <td>8</td>\n",
       "      <td>8</td>\n",
       "      <td>8</td>\n",
       "      <td>2</td>\n",
       "      <td>1</td>\n",
       "      <td>1</td>\n",
       "      <td>0</td>\n",
       "      <td>0</td>\n",
       "      <td>0</td>\n",
       "      <td>0</td>\n",
       "      <td>115.26</td>\n",
       "      <td>115.87</td>\n",
       "      <td>118.55</td>\n",
       "      <td>115.80</td>\n",
       "    </tr>\n",
       "    <tr>\n",
       "      <th>1</th>\n",
       "      <td>16</td>\n",
       "      <td>16</td>\n",
       "      <td>16</td>\n",
       "      <td>8</td>\n",
       "      <td>8</td>\n",
       "      <td>8</td>\n",
       "      <td>8</td>\n",
       "      <td>2</td>\n",
       "      <td>1</td>\n",
       "      <td>1</td>\n",
       "      <td>0</td>\n",
       "      <td>0</td>\n",
       "      <td>0</td>\n",
       "      <td>1</td>\n",
       "      <td>78.13</td>\n",
       "      <td>78.25</td>\n",
       "      <td>79.25</td>\n",
       "      <td>79.19</td>\n",
       "    </tr>\n",
       "    <tr>\n",
       "      <th>2</th>\n",
       "      <td>16</td>\n",
       "      <td>16</td>\n",
       "      <td>16</td>\n",
       "      <td>8</td>\n",
       "      <td>8</td>\n",
       "      <td>8</td>\n",
       "      <td>8</td>\n",
       "      <td>2</td>\n",
       "      <td>1</td>\n",
       "      <td>1</td>\n",
       "      <td>0</td>\n",
       "      <td>0</td>\n",
       "      <td>1</td>\n",
       "      <td>0</td>\n",
       "      <td>79.84</td>\n",
       "      <td>80.69</td>\n",
       "      <td>80.76</td>\n",
       "      <td>80.97</td>\n",
       "    </tr>\n",
       "    <tr>\n",
       "      <th>3</th>\n",
       "      <td>16</td>\n",
       "      <td>16</td>\n",
       "      <td>16</td>\n",
       "      <td>8</td>\n",
       "      <td>8</td>\n",
       "      <td>8</td>\n",
       "      <td>8</td>\n",
       "      <td>2</td>\n",
       "      <td>1</td>\n",
       "      <td>1</td>\n",
       "      <td>0</td>\n",
       "      <td>0</td>\n",
       "      <td>1</td>\n",
       "      <td>1</td>\n",
       "      <td>84.32</td>\n",
       "      <td>89.90</td>\n",
       "      <td>86.75</td>\n",
       "      <td>85.58</td>\n",
       "    </tr>\n",
       "    <tr>\n",
       "      <th>4</th>\n",
       "      <td>16</td>\n",
       "      <td>16</td>\n",
       "      <td>16</td>\n",
       "      <td>8</td>\n",
       "      <td>8</td>\n",
       "      <td>8</td>\n",
       "      <td>8</td>\n",
       "      <td>2</td>\n",
       "      <td>1</td>\n",
       "      <td>1</td>\n",
       "      <td>0</td>\n",
       "      <td>1</td>\n",
       "      <td>0</td>\n",
       "      <td>0</td>\n",
       "      <td>115.13</td>\n",
       "      <td>121.98</td>\n",
       "      <td>122.73</td>\n",
       "      <td>114.81</td>\n",
       "    </tr>\n",
       "  </tbody>\n",
       "</table>\n",
       "</div>"
      ],
      "text/plain": [
       "   MWG  NWG  KWG  MDIMC  NDIMC  MDIMA  NDIMB  KWI  VWM  VWN  STRM  STRN  SA  \\\n",
       "0   16   16   16      8      8      8      8    2    1    1     0     0   0   \n",
       "1   16   16   16      8      8      8      8    2    1    1     0     0   0   \n",
       "2   16   16   16      8      8      8      8    2    1    1     0     0   1   \n",
       "3   16   16   16      8      8      8      8    2    1    1     0     0   1   \n",
       "4   16   16   16      8      8      8      8    2    1    1     0     1   0   \n",
       "\n",
       "   SB  Run1 (ms)  Run2 (ms)  Run3 (ms)  Run4 (ms)  \n",
       "0   0     115.26     115.87     118.55     115.80  \n",
       "1   1      78.13      78.25      79.25      79.19  \n",
       "2   0      79.84      80.69      80.76      80.97  \n",
       "3   1      84.32      89.90      86.75      85.58  \n",
       "4   0     115.13     121.98     122.73     114.81  "
      ]
     },
     "execution_count": 2,
     "metadata": {},
     "output_type": "execute_result"
    }
   ],
   "source": [
    "df = pd.read_csv('sgemm_product.csv') #Reading the data\n",
    "df.head()"
   ]
  },
  {
   "cell_type": "code",
   "execution_count": 3,
   "metadata": {},
   "outputs": [],
   "source": [
    "df['Runtime']=df[['Run1 (ms)','Run2 (ms)','Run3 (ms)','Run4 (ms)']].mean(axis=1) \n",
    "#Creating new column with arithmetic mean of other 4 columns mentioned "
   ]
  },
  {
   "cell_type": "code",
   "execution_count": 4,
   "metadata": {},
   "outputs": [
    {
     "data": {
      "text/html": [
       "<div>\n",
       "<style scoped>\n",
       "    .dataframe tbody tr th:only-of-type {\n",
       "        vertical-align: middle;\n",
       "    }\n",
       "\n",
       "    .dataframe tbody tr th {\n",
       "        vertical-align: top;\n",
       "    }\n",
       "\n",
       "    .dataframe thead th {\n",
       "        text-align: right;\n",
       "    }\n",
       "</style>\n",
       "<table border=\"1\" class=\"dataframe\">\n",
       "  <thead>\n",
       "    <tr style=\"text-align: right;\">\n",
       "      <th></th>\n",
       "      <th>MWG</th>\n",
       "      <th>NWG</th>\n",
       "      <th>KWG</th>\n",
       "      <th>MDIMC</th>\n",
       "      <th>NDIMC</th>\n",
       "      <th>MDIMA</th>\n",
       "      <th>NDIMB</th>\n",
       "      <th>KWI</th>\n",
       "      <th>VWM</th>\n",
       "      <th>VWN</th>\n",
       "      <th>STRM</th>\n",
       "      <th>STRN</th>\n",
       "      <th>SA</th>\n",
       "      <th>SB</th>\n",
       "      <th>Run1 (ms)</th>\n",
       "      <th>Run2 (ms)</th>\n",
       "      <th>Run3 (ms)</th>\n",
       "      <th>Run4 (ms)</th>\n",
       "      <th>Runtime</th>\n",
       "    </tr>\n",
       "  </thead>\n",
       "  <tbody>\n",
       "    <tr>\n",
       "      <th>0</th>\n",
       "      <td>16</td>\n",
       "      <td>16</td>\n",
       "      <td>16</td>\n",
       "      <td>8</td>\n",
       "      <td>8</td>\n",
       "      <td>8</td>\n",
       "      <td>8</td>\n",
       "      <td>2</td>\n",
       "      <td>1</td>\n",
       "      <td>1</td>\n",
       "      <td>0</td>\n",
       "      <td>0</td>\n",
       "      <td>0</td>\n",
       "      <td>0</td>\n",
       "      <td>115.26</td>\n",
       "      <td>115.87</td>\n",
       "      <td>118.55</td>\n",
       "      <td>115.80</td>\n",
       "      <td>116.3700</td>\n",
       "    </tr>\n",
       "    <tr>\n",
       "      <th>1</th>\n",
       "      <td>16</td>\n",
       "      <td>16</td>\n",
       "      <td>16</td>\n",
       "      <td>8</td>\n",
       "      <td>8</td>\n",
       "      <td>8</td>\n",
       "      <td>8</td>\n",
       "      <td>2</td>\n",
       "      <td>1</td>\n",
       "      <td>1</td>\n",
       "      <td>0</td>\n",
       "      <td>0</td>\n",
       "      <td>0</td>\n",
       "      <td>1</td>\n",
       "      <td>78.13</td>\n",
       "      <td>78.25</td>\n",
       "      <td>79.25</td>\n",
       "      <td>79.19</td>\n",
       "      <td>78.7050</td>\n",
       "    </tr>\n",
       "    <tr>\n",
       "      <th>2</th>\n",
       "      <td>16</td>\n",
       "      <td>16</td>\n",
       "      <td>16</td>\n",
       "      <td>8</td>\n",
       "      <td>8</td>\n",
       "      <td>8</td>\n",
       "      <td>8</td>\n",
       "      <td>2</td>\n",
       "      <td>1</td>\n",
       "      <td>1</td>\n",
       "      <td>0</td>\n",
       "      <td>0</td>\n",
       "      <td>1</td>\n",
       "      <td>0</td>\n",
       "      <td>79.84</td>\n",
       "      <td>80.69</td>\n",
       "      <td>80.76</td>\n",
       "      <td>80.97</td>\n",
       "      <td>80.5650</td>\n",
       "    </tr>\n",
       "    <tr>\n",
       "      <th>3</th>\n",
       "      <td>16</td>\n",
       "      <td>16</td>\n",
       "      <td>16</td>\n",
       "      <td>8</td>\n",
       "      <td>8</td>\n",
       "      <td>8</td>\n",
       "      <td>8</td>\n",
       "      <td>2</td>\n",
       "      <td>1</td>\n",
       "      <td>1</td>\n",
       "      <td>0</td>\n",
       "      <td>0</td>\n",
       "      <td>1</td>\n",
       "      <td>1</td>\n",
       "      <td>84.32</td>\n",
       "      <td>89.90</td>\n",
       "      <td>86.75</td>\n",
       "      <td>85.58</td>\n",
       "      <td>86.6375</td>\n",
       "    </tr>\n",
       "    <tr>\n",
       "      <th>4</th>\n",
       "      <td>16</td>\n",
       "      <td>16</td>\n",
       "      <td>16</td>\n",
       "      <td>8</td>\n",
       "      <td>8</td>\n",
       "      <td>8</td>\n",
       "      <td>8</td>\n",
       "      <td>2</td>\n",
       "      <td>1</td>\n",
       "      <td>1</td>\n",
       "      <td>0</td>\n",
       "      <td>1</td>\n",
       "      <td>0</td>\n",
       "      <td>0</td>\n",
       "      <td>115.13</td>\n",
       "      <td>121.98</td>\n",
       "      <td>122.73</td>\n",
       "      <td>114.81</td>\n",
       "      <td>118.6625</td>\n",
       "    </tr>\n",
       "  </tbody>\n",
       "</table>\n",
       "</div>"
      ],
      "text/plain": [
       "   MWG  NWG  KWG  MDIMC  NDIMC  MDIMA  NDIMB  KWI  VWM  VWN  STRM  STRN  SA  \\\n",
       "0   16   16   16      8      8      8      8    2    1    1     0     0   0   \n",
       "1   16   16   16      8      8      8      8    2    1    1     0     0   0   \n",
       "2   16   16   16      8      8      8      8    2    1    1     0     0   1   \n",
       "3   16   16   16      8      8      8      8    2    1    1     0     0   1   \n",
       "4   16   16   16      8      8      8      8    2    1    1     0     1   0   \n",
       "\n",
       "   SB  Run1 (ms)  Run2 (ms)  Run3 (ms)  Run4 (ms)   Runtime  \n",
       "0   0     115.26     115.87     118.55     115.80  116.3700  \n",
       "1   1      78.13      78.25      79.25      79.19   78.7050  \n",
       "2   0      79.84      80.69      80.76      80.97   80.5650  \n",
       "3   1      84.32      89.90      86.75      85.58   86.6375  \n",
       "4   0     115.13     121.98     122.73     114.81  118.6625  "
      ]
     },
     "execution_count": 4,
     "metadata": {},
     "output_type": "execute_result"
    }
   ],
   "source": [
    "df.head()"
   ]
  },
  {
   "cell_type": "code",
   "execution_count": 5,
   "metadata": {},
   "outputs": [
    {
     "name": "stdout",
     "output_type": "stream",
     "text": [
      "<class 'pandas.core.frame.DataFrame'>\n",
      "RangeIndex: 241600 entries, 0 to 241599\n",
      "Data columns (total 15 columns):\n",
      "MWG        241600 non-null int64\n",
      "NWG        241600 non-null int64\n",
      "KWG        241600 non-null int64\n",
      "MDIMC      241600 non-null int64\n",
      "NDIMC      241600 non-null int64\n",
      "MDIMA      241600 non-null int64\n",
      "NDIMB      241600 non-null int64\n",
      "KWI        241600 non-null int64\n",
      "VWM        241600 non-null int64\n",
      "VWN        241600 non-null int64\n",
      "STRM       241600 non-null int64\n",
      "STRN       241600 non-null int64\n",
      "SA         241600 non-null int64\n",
      "SB         241600 non-null int64\n",
      "Runtime    241600 non-null float64\n",
      "dtypes: float64(1), int64(14)\n",
      "memory usage: 27.6 MB\n"
     ]
    }
   ],
   "source": [
    "df1=df.drop(columns =['Run1 (ms)','Run2 (ms)','Run3 (ms)','Run4 (ms)'], axis = 1)\n",
    "df1.info()"
   ]
  },
  {
   "cell_type": "code",
   "execution_count": 6,
   "metadata": {},
   "outputs": [
    {
     "data": {
      "text/plain": [
       "MWG        0\n",
       "NWG        0\n",
       "KWG        0\n",
       "MDIMC      0\n",
       "NDIMC      0\n",
       "MDIMA      0\n",
       "NDIMB      0\n",
       "KWI        0\n",
       "VWM        0\n",
       "VWN        0\n",
       "STRM       0\n",
       "STRN       0\n",
       "SA         0\n",
       "SB         0\n",
       "Runtime    0\n",
       "dtype: int64"
      ]
     },
     "execution_count": 6,
     "metadata": {},
     "output_type": "execute_result"
    }
   ],
   "source": [
    "df1.isnull().sum() #No null values"
   ]
  },
  {
   "cell_type": "code",
   "execution_count": 7,
   "metadata": {},
   "outputs": [
    {
     "data": {
      "text/html": [
       "<div>\n",
       "<style scoped>\n",
       "    .dataframe tbody tr th:only-of-type {\n",
       "        vertical-align: middle;\n",
       "    }\n",
       "\n",
       "    .dataframe tbody tr th {\n",
       "        vertical-align: top;\n",
       "    }\n",
       "\n",
       "    .dataframe thead th {\n",
       "        text-align: right;\n",
       "    }\n",
       "</style>\n",
       "<table border=\"1\" class=\"dataframe\">\n",
       "  <thead>\n",
       "    <tr style=\"text-align: right;\">\n",
       "      <th></th>\n",
       "      <th>count</th>\n",
       "      <th>mean</th>\n",
       "      <th>std</th>\n",
       "      <th>min</th>\n",
       "      <th>25%</th>\n",
       "      <th>50%</th>\n",
       "      <th>75%</th>\n",
       "      <th>max</th>\n",
       "    </tr>\n",
       "  </thead>\n",
       "  <tbody>\n",
       "    <tr>\n",
       "      <th>MWG</th>\n",
       "      <td>241600.0</td>\n",
       "      <td>80.415364</td>\n",
       "      <td>42.469220</td>\n",
       "      <td>16.0000</td>\n",
       "      <td>32.0000</td>\n",
       "      <td>64.00</td>\n",
       "      <td>128.0000</td>\n",
       "      <td>128.0000</td>\n",
       "    </tr>\n",
       "    <tr>\n",
       "      <th>NWG</th>\n",
       "      <td>241600.0</td>\n",
       "      <td>80.415364</td>\n",
       "      <td>42.469220</td>\n",
       "      <td>16.0000</td>\n",
       "      <td>32.0000</td>\n",
       "      <td>64.00</td>\n",
       "      <td>128.0000</td>\n",
       "      <td>128.0000</td>\n",
       "    </tr>\n",
       "    <tr>\n",
       "      <th>KWG</th>\n",
       "      <td>241600.0</td>\n",
       "      <td>25.513113</td>\n",
       "      <td>7.855619</td>\n",
       "      <td>16.0000</td>\n",
       "      <td>16.0000</td>\n",
       "      <td>32.00</td>\n",
       "      <td>32.0000</td>\n",
       "      <td>32.0000</td>\n",
       "    </tr>\n",
       "    <tr>\n",
       "      <th>MDIMC</th>\n",
       "      <td>241600.0</td>\n",
       "      <td>13.935894</td>\n",
       "      <td>7.873662</td>\n",
       "      <td>8.0000</td>\n",
       "      <td>8.0000</td>\n",
       "      <td>8.00</td>\n",
       "      <td>16.0000</td>\n",
       "      <td>32.0000</td>\n",
       "    </tr>\n",
       "    <tr>\n",
       "      <th>NDIMC</th>\n",
       "      <td>241600.0</td>\n",
       "      <td>13.935894</td>\n",
       "      <td>7.873662</td>\n",
       "      <td>8.0000</td>\n",
       "      <td>8.0000</td>\n",
       "      <td>8.00</td>\n",
       "      <td>16.0000</td>\n",
       "      <td>32.0000</td>\n",
       "    </tr>\n",
       "    <tr>\n",
       "      <th>MDIMA</th>\n",
       "      <td>241600.0</td>\n",
       "      <td>17.371126</td>\n",
       "      <td>9.389418</td>\n",
       "      <td>8.0000</td>\n",
       "      <td>8.0000</td>\n",
       "      <td>16.00</td>\n",
       "      <td>32.0000</td>\n",
       "      <td>32.0000</td>\n",
       "    </tr>\n",
       "    <tr>\n",
       "      <th>NDIMB</th>\n",
       "      <td>241600.0</td>\n",
       "      <td>17.371126</td>\n",
       "      <td>9.389418</td>\n",
       "      <td>8.0000</td>\n",
       "      <td>8.0000</td>\n",
       "      <td>16.00</td>\n",
       "      <td>32.0000</td>\n",
       "      <td>32.0000</td>\n",
       "    </tr>\n",
       "    <tr>\n",
       "      <th>KWI</th>\n",
       "      <td>241600.0</td>\n",
       "      <td>5.000000</td>\n",
       "      <td>3.000006</td>\n",
       "      <td>2.0000</td>\n",
       "      <td>2.0000</td>\n",
       "      <td>5.00</td>\n",
       "      <td>8.0000</td>\n",
       "      <td>8.0000</td>\n",
       "    </tr>\n",
       "    <tr>\n",
       "      <th>VWM</th>\n",
       "      <td>241600.0</td>\n",
       "      <td>2.448609</td>\n",
       "      <td>1.953759</td>\n",
       "      <td>1.0000</td>\n",
       "      <td>1.0000</td>\n",
       "      <td>2.00</td>\n",
       "      <td>4.0000</td>\n",
       "      <td>8.0000</td>\n",
       "    </tr>\n",
       "    <tr>\n",
       "      <th>VWN</th>\n",
       "      <td>241600.0</td>\n",
       "      <td>2.448609</td>\n",
       "      <td>1.953759</td>\n",
       "      <td>1.0000</td>\n",
       "      <td>1.0000</td>\n",
       "      <td>2.00</td>\n",
       "      <td>4.0000</td>\n",
       "      <td>8.0000</td>\n",
       "    </tr>\n",
       "    <tr>\n",
       "      <th>STRM</th>\n",
       "      <td>241600.0</td>\n",
       "      <td>0.500000</td>\n",
       "      <td>0.500001</td>\n",
       "      <td>0.0000</td>\n",
       "      <td>0.0000</td>\n",
       "      <td>0.50</td>\n",
       "      <td>1.0000</td>\n",
       "      <td>1.0000</td>\n",
       "    </tr>\n",
       "    <tr>\n",
       "      <th>STRN</th>\n",
       "      <td>241600.0</td>\n",
       "      <td>0.500000</td>\n",
       "      <td>0.500001</td>\n",
       "      <td>0.0000</td>\n",
       "      <td>0.0000</td>\n",
       "      <td>0.50</td>\n",
       "      <td>1.0000</td>\n",
       "      <td>1.0000</td>\n",
       "    </tr>\n",
       "    <tr>\n",
       "      <th>SA</th>\n",
       "      <td>241600.0</td>\n",
       "      <td>0.500000</td>\n",
       "      <td>0.500001</td>\n",
       "      <td>0.0000</td>\n",
       "      <td>0.0000</td>\n",
       "      <td>0.50</td>\n",
       "      <td>1.0000</td>\n",
       "      <td>1.0000</td>\n",
       "    </tr>\n",
       "    <tr>\n",
       "      <th>SB</th>\n",
       "      <td>241600.0</td>\n",
       "      <td>0.500000</td>\n",
       "      <td>0.500001</td>\n",
       "      <td>0.0000</td>\n",
       "      <td>0.0000</td>\n",
       "      <td>0.50</td>\n",
       "      <td>1.0000</td>\n",
       "      <td>1.0000</td>\n",
       "    </tr>\n",
       "    <tr>\n",
       "      <th>Runtime</th>\n",
       "      <td>241600.0</td>\n",
       "      <td>217.571953</td>\n",
       "      <td>368.750161</td>\n",
       "      <td>13.3175</td>\n",
       "      <td>40.6675</td>\n",
       "      <td>69.79</td>\n",
       "      <td>228.3875</td>\n",
       "      <td>3341.5075</td>\n",
       "    </tr>\n",
       "  </tbody>\n",
       "</table>\n",
       "</div>"
      ],
      "text/plain": [
       "            count        mean         std      min      25%    50%       75%  \\\n",
       "MWG      241600.0   80.415364   42.469220  16.0000  32.0000  64.00  128.0000   \n",
       "NWG      241600.0   80.415364   42.469220  16.0000  32.0000  64.00  128.0000   \n",
       "KWG      241600.0   25.513113    7.855619  16.0000  16.0000  32.00   32.0000   \n",
       "MDIMC    241600.0   13.935894    7.873662   8.0000   8.0000   8.00   16.0000   \n",
       "NDIMC    241600.0   13.935894    7.873662   8.0000   8.0000   8.00   16.0000   \n",
       "MDIMA    241600.0   17.371126    9.389418   8.0000   8.0000  16.00   32.0000   \n",
       "NDIMB    241600.0   17.371126    9.389418   8.0000   8.0000  16.00   32.0000   \n",
       "KWI      241600.0    5.000000    3.000006   2.0000   2.0000   5.00    8.0000   \n",
       "VWM      241600.0    2.448609    1.953759   1.0000   1.0000   2.00    4.0000   \n",
       "VWN      241600.0    2.448609    1.953759   1.0000   1.0000   2.00    4.0000   \n",
       "STRM     241600.0    0.500000    0.500001   0.0000   0.0000   0.50    1.0000   \n",
       "STRN     241600.0    0.500000    0.500001   0.0000   0.0000   0.50    1.0000   \n",
       "SA       241600.0    0.500000    0.500001   0.0000   0.0000   0.50    1.0000   \n",
       "SB       241600.0    0.500000    0.500001   0.0000   0.0000   0.50    1.0000   \n",
       "Runtime  241600.0  217.571953  368.750161  13.3175  40.6675  69.79  228.3875   \n",
       "\n",
       "               max  \n",
       "MWG       128.0000  \n",
       "NWG       128.0000  \n",
       "KWG        32.0000  \n",
       "MDIMC      32.0000  \n",
       "NDIMC      32.0000  \n",
       "MDIMA      32.0000  \n",
       "NDIMB      32.0000  \n",
       "KWI         8.0000  \n",
       "VWM         8.0000  \n",
       "VWN         8.0000  \n",
       "STRM        1.0000  \n",
       "STRN        1.0000  \n",
       "SA          1.0000  \n",
       "SB          1.0000  \n",
       "Runtime  3341.5075  "
      ]
     },
     "execution_count": 7,
     "metadata": {},
     "output_type": "execute_result"
    }
   ],
   "source": [
    "#checking descriptive stats\n",
    "df1.describe().T"
   ]
  },
  {
   "cell_type": "code",
   "execution_count": 8,
   "metadata": {},
   "outputs": [
    {
     "data": {
      "image/png": "[encoded data removed]",
      "text/plain": [
       "<Figure size 1440x1080 with 16 Axes>"
      ]
     },
     "metadata": {
      "needs_background": "light"
     },
     "output_type": "display_data"
    }
   ],
   "source": [
    "df1.hist(bins = 50, figsize = (20,15))\n",
    "plt.show()\n",
    "#creating histogram of each column"
   ]
  },
  {
   "cell_type": "code",
   "execution_count": 9,
   "metadata": {},
   "outputs": [
    {
     "data": {
      "image/png": "[encoded data removed]",
      "text/plain": [
       "<Figure size 720x432 with 1 Axes>"
      ]
     },
     "metadata": {
      "needs_background": "light"
     },
     "output_type": "display_data"
    }
   ],
   "source": [
    "#checking for outliers\n",
    "plt.figure(figsize=(10,6))\n",
    "sns.boxplot(df1['Runtime'])\n",
    "plt.show()"
   ]
  },
  {
   "cell_type": "code",
   "execution_count": 10,
   "metadata": {},
   "outputs": [
    {
     "data": {
      "image/png": "[encoded data removed]",
      "text/plain": [
       "<Figure size 360x360 with 1 Axes>"
      ]
     },
     "metadata": {
      "needs_background": "light"
     },
     "output_type": "display_data"
    }
   ],
   "source": [
    "df1.hist(column = 'Runtime',bins = 50, figsize = (5,5))\n",
    "plt.show()\n",
    "#Checking Skewness"
   ]
  },
  {
   "cell_type": "code",
   "execution_count": 11,
   "metadata": {},
   "outputs": [],
   "source": [
    "#removing outliers\n",
    "Q1=df1['Runtime'].quantile(0.25)\n",
    "Q2=df1['Runtime'].quantile(0.75)\n",
    "IQR = Q2 - Q1\n",
    "LL=Q1-1.5*IQR\n",
    "UL=Q2+1.5*IQR\n",
    "df2 = df1[(df1.Runtime>LL) & (df1.Runtime<UL)]"
   ]
  },
  {
   "cell_type": "code",
   "execution_count": 12,
   "metadata": {},
   "outputs": [
    {
     "data": {
      "image/png": "[encoded data removed]",
      "text/plain": [
       "<Figure size 360x360 with 1 Axes>"
      ]
     },
     "metadata": {
      "needs_background": "light"
     },
     "output_type": "display_data"
    }
   ],
   "source": [
    "plt.figure(figsize=(5,5))\n",
    "sns.boxplot(df2['Runtime'])\n",
    "plt.show()\n",
    "#after removing outliers"
   ]
  },
  {
   "cell_type": "code",
   "execution_count": 13,
   "metadata": {},
   "outputs": [
    {
     "data": {
      "image/png": "[encoded data removed]",
      "text/plain": [
       "<Figure size 360x360 with 1 Axes>"
      ]
     },
     "metadata": {
      "needs_background": "light"
     },
     "output_type": "display_data"
    }
   ],
   "source": [
    "df2.hist(column = 'Runtime',bins = 50, figsize = (5,5))\n",
    "plt.show()\n",
    "#still the data seems positively skewed "
   ]
  },
  {
   "cell_type": "code",
   "execution_count": 14,
   "metadata": {},
   "outputs": [
    {
     "data": {
      "image/png": "[encoded data removed]",
      "text/plain": [
       "<Figure size 432x288 with 1 Axes>"
      ]
     },
     "metadata": {
      "needs_background": "light"
     },
     "output_type": "display_data"
    }
   ],
   "source": [
    "#plotting the distribution of Runtime\n",
    "sns.distplot(df2['Runtime'])\n",
    "plt.show()"
   ]
  },
  {
   "cell_type": "code",
   "execution_count": 15,
   "metadata": {},
   "outputs": [
    {
     "name": "stderr",
     "output_type": "stream",
     "text": [
      "E:\\Softwares\\Anaconda\\lib\\site-packages\\ipykernel_launcher.py:1: SettingWithCopyWarning: \n",
      "A value is trying to be set on a copy of a slice from a DataFrame.\n",
      "Try using .loc[row_indexer,col_indexer] = value instead\n",
      "\n",
      "See the caveats in the documentation: http://pandas.pydata.org/pandas-docs/stable/indexing.html#indexing-view-versus-copy\n",
      "  \"\"\"Entry point for launching an IPython kernel.\n"
     ]
    },
    {
     "data": {
      "image/png": "[encoded data removed]",
      "text/plain": [
       "<Figure size 432x288 with 1 Axes>"
      ]
     },
     "metadata": {
      "needs_background": "light"
     },
     "output_type": "display_data"
    }
   ],
   "source": [
    "df2['target']=np.log(df2.Runtime)\n",
    "sns.distplot(df2['target'])\n",
    "plt.show()\n",
    "#we scaled the target variable with log function and created a new column named 'target'\n",
    "#now the data seems a bit normally distributed so we will proceed further"
   ]
  },
  {
   "cell_type": "code",
   "execution_count": 16,
   "metadata": {},
   "outputs": [
    {
     "data": {
      "image/png": "[encoded data removed]",
      "text/plain": [
       "<Figure size 1080x1080 with 2 Axes>"
      ]
     },
     "metadata": {
      "needs_background": "light"
     },
     "output_type": "display_data"
    }
   ],
   "source": [
    "# Checking for correlation \n",
    "plt.figure(figsize=(15,15))\n",
    "sns.set(font_scale=1)\n",
    "sns.heatmap(df2.corr(),cmap='YlGnBu',annot=True, square = True ,linewidths=.5);\n",
    "plt.title('Variable Correlation')\n",
    "plt.show()"
   ]
  },
  {
   "cell_type": "code",
   "execution_count": 17,
   "metadata": {},
   "outputs": [
    {
     "data": {
      "text/plain": [
       "target     1.000000\n",
       "Runtime    0.927764\n",
       "MWG        0.365784\n",
       "NWG        0.199119\n",
       "VWM        0.161032\n",
       "VWN        0.067518\n",
       "STRN      -0.011999\n",
       "KWG       -0.025051\n",
       "MDIMA     -0.028565\n",
       "KWI       -0.031009\n",
       "NDIMB     -0.045229\n",
       "STRM      -0.085392\n",
       "SB        -0.136840\n",
       "NDIMC     -0.153199\n",
       "MDIMC     -0.164527\n",
       "SA        -0.229189\n",
       "Name: target, dtype: float64"
      ]
     },
     "execution_count": 17,
     "metadata": {},
     "output_type": "execute_result"
    }
   ],
   "source": [
    "#correlation of other columns against 'target'\n",
    "corr_matrix = df2.corr()\n",
    "corr_matrix['target'].sort_values(ascending=False)"
   ]
  },
  {
   "cell_type": "code",
   "execution_count": 18,
   "metadata": {},
   "outputs": [
    {
     "data": {
      "text/html": [
       "<div>\n",
       "<style scoped>\n",
       "    .dataframe tbody tr th:only-of-type {\n",
       "        vertical-align: middle;\n",
       "    }\n",
       "\n",
       "    .dataframe tbody tr th {\n",
       "        vertical-align: top;\n",
       "    }\n",
       "\n",
       "    .dataframe thead th {\n",
       "        text-align: right;\n",
       "    }\n",
       "</style>\n",
       "<table border=\"1\" class=\"dataframe\">\n",
       "  <thead>\n",
       "    <tr style=\"text-align: right;\">\n",
       "      <th></th>\n",
       "      <th>MWG</th>\n",
       "      <th>NWG</th>\n",
       "      <th>KWG</th>\n",
       "      <th>MDIMC</th>\n",
       "      <th>NDIMC</th>\n",
       "      <th>MDIMA</th>\n",
       "      <th>NDIMB</th>\n",
       "      <th>KWI</th>\n",
       "      <th>VWM</th>\n",
       "      <th>VWN</th>\n",
       "      <th>STRM</th>\n",
       "      <th>STRN</th>\n",
       "      <th>SA</th>\n",
       "      <th>SB</th>\n",
       "      <th>target</th>\n",
       "    </tr>\n",
       "  </thead>\n",
       "  <tbody>\n",
       "    <tr>\n",
       "      <th>0</th>\n",
       "      <td>16</td>\n",
       "      <td>16</td>\n",
       "      <td>16</td>\n",
       "      <td>8</td>\n",
       "      <td>8</td>\n",
       "      <td>8</td>\n",
       "      <td>8</td>\n",
       "      <td>2</td>\n",
       "      <td>1</td>\n",
       "      <td>1</td>\n",
       "      <td>0</td>\n",
       "      <td>0</td>\n",
       "      <td>0</td>\n",
       "      <td>0</td>\n",
       "      <td>4.756775</td>\n",
       "    </tr>\n",
       "    <tr>\n",
       "      <th>1</th>\n",
       "      <td>16</td>\n",
       "      <td>16</td>\n",
       "      <td>16</td>\n",
       "      <td>8</td>\n",
       "      <td>8</td>\n",
       "      <td>8</td>\n",
       "      <td>8</td>\n",
       "      <td>2</td>\n",
       "      <td>1</td>\n",
       "      <td>1</td>\n",
       "      <td>0</td>\n",
       "      <td>0</td>\n",
       "      <td>0</td>\n",
       "      <td>1</td>\n",
       "      <td>4.365707</td>\n",
       "    </tr>\n",
       "    <tr>\n",
       "      <th>2</th>\n",
       "      <td>16</td>\n",
       "      <td>16</td>\n",
       "      <td>16</td>\n",
       "      <td>8</td>\n",
       "      <td>8</td>\n",
       "      <td>8</td>\n",
       "      <td>8</td>\n",
       "      <td>2</td>\n",
       "      <td>1</td>\n",
       "      <td>1</td>\n",
       "      <td>0</td>\n",
       "      <td>0</td>\n",
       "      <td>1</td>\n",
       "      <td>0</td>\n",
       "      <td>4.389064</td>\n",
       "    </tr>\n",
       "    <tr>\n",
       "      <th>3</th>\n",
       "      <td>16</td>\n",
       "      <td>16</td>\n",
       "      <td>16</td>\n",
       "      <td>8</td>\n",
       "      <td>8</td>\n",
       "      <td>8</td>\n",
       "      <td>8</td>\n",
       "      <td>2</td>\n",
       "      <td>1</td>\n",
       "      <td>1</td>\n",
       "      <td>0</td>\n",
       "      <td>0</td>\n",
       "      <td>1</td>\n",
       "      <td>1</td>\n",
       "      <td>4.461733</td>\n",
       "    </tr>\n",
       "    <tr>\n",
       "      <th>4</th>\n",
       "      <td>16</td>\n",
       "      <td>16</td>\n",
       "      <td>16</td>\n",
       "      <td>8</td>\n",
       "      <td>8</td>\n",
       "      <td>8</td>\n",
       "      <td>8</td>\n",
       "      <td>2</td>\n",
       "      <td>1</td>\n",
       "      <td>1</td>\n",
       "      <td>0</td>\n",
       "      <td>1</td>\n",
       "      <td>0</td>\n",
       "      <td>0</td>\n",
       "      <td>4.776283</td>\n",
       "    </tr>\n",
       "  </tbody>\n",
       "</table>\n",
       "</div>"
      ],
      "text/plain": [
       "   MWG  NWG  KWG  MDIMC  NDIMC  MDIMA  NDIMB  KWI  VWM  VWN  STRM  STRN  SA  \\\n",
       "0   16   16   16      8      8      8      8    2    1    1     0     0   0   \n",
       "1   16   16   16      8      8      8      8    2    1    1     0     0   0   \n",
       "2   16   16   16      8      8      8      8    2    1    1     0     0   1   \n",
       "3   16   16   16      8      8      8      8    2    1    1     0     0   1   \n",
       "4   16   16   16      8      8      8      8    2    1    1     0     1   0   \n",
       "\n",
       "   SB    target  \n",
       "0   0  4.756775  \n",
       "1   1  4.365707  \n",
       "2   0  4.389064  \n",
       "3   1  4.461733  \n",
       "4   0  4.776283  "
      ]
     },
     "execution_count": 18,
     "metadata": {},
     "output_type": "execute_result"
    }
   ],
   "source": [
    "# As we are considering target as our y , So we are creating a new dataframe without Runtime as it is not needed\n",
    "df3 = df2.loc[:,df2.columns !='Runtime']\n",
    "df3.head()"
   ]
  },
  {
   "cell_type": "markdown",
   "metadata": {},
   "source": [
    "##### Train Test Split"
   ]
  },
  {
   "cell_type": "code",
   "execution_count": 19,
   "metadata": {},
   "outputs": [],
   "source": [
    "from sklearn.model_selection import train_test_split\n",
    "X = df3.loc[:, df3.columns != 'target'] \n",
    "y = df3.loc[:,df3.columns == 'target']\n",
    "X_train, X_test, y_train, y_test = train_test_split(X, y, test_size=0.4,random_state = 42)\n",
    "# Here we are taking a test size of 40% of the dataset "
   ]
  },
  {
   "cell_type": "code",
   "execution_count": 20,
   "metadata": {},
   "outputs": [],
   "source": [
    "from sklearn.model_selection import GridSearchCV, cross_val_score\n",
    "from sklearn.metrics import mean_squared_error"
   ]
  },
  {
   "cell_type": "code",
   "execution_count": 28,
   "metadata": {},
   "outputs": [],
   "source": [
    "#Function to display scores for cross validation\n",
    "def display_scores(scores):\n",
    "    print('Scores',scores)\n",
    "    print('Mean',scores.mean())\n",
    "    print('Standard Deviation',scores.std())"
   ]
  },
  {
   "cell_type": "markdown",
   "metadata": {},
   "source": [
    "##### Linear Regression"
   ]
  },
  {
   "cell_type": "code",
   "execution_count": 21,
   "metadata": {},
   "outputs": [],
   "source": [
    "from sklearn.linear_model import LinearRegression\n",
    "lin_reg = LinearRegression(n_jobs = -1)"
   ]
  },
  {
   "cell_type": "code",
   "execution_count": 22,
   "metadata": {},
   "outputs": [
    {
     "data": {
      "text/plain": [
       "LinearRegression(copy_X=True, fit_intercept=True, n_jobs=-1, normalize=False)"
      ]
     },
     "execution_count": 22,
     "metadata": {},
     "output_type": "execute_result"
    }
   ],
   "source": [
    "lin_reg.fit(X_train,y_train)"
   ]
  },
  {
   "cell_type": "code",
   "execution_count": 23,
   "metadata": {},
   "outputs": [],
   "source": [
    "predictions = lin_reg.predict(X_test)"
   ]
  },
  {
   "cell_type": "code",
   "execution_count": 24,
   "metadata": {},
   "outputs": [
    {
     "data": {
      "text/plain": [
       "0.6512314352078719"
      ]
     },
     "execution_count": 24,
     "metadata": {},
     "output_type": "execute_result"
    }
   ],
   "source": [
    "lin_mse = mean_squared_error(y_test,predictions)\n",
    "lin_rmse = np.sqrt(lin_mse)\n",
    "lin_rmse"
   ]
  },
  {
   "cell_type": "code",
   "execution_count": 30,
   "metadata": {},
   "outputs": [
    {
     "name": "stdout",
     "output_type": "stream",
     "text": [
      "Scores [0.65261088 0.65240304 0.64781426 0.65352609 0.6491022  0.64913986\n",
      " 0.65318467 0.655247   0.65000871 0.64797296]\n",
      "Mean 0.6511009653328375\n",
      "Standard Deviation 0.002469996100035329\n"
     ]
    }
   ],
   "source": [
    "lin_scores = cross_val_score(lin_reg,X_train,y_train,scoring = 'neg_mean_squared_error',cv =10)\n",
    "lin_rmse_scores = np.sqrt(-lin_scores)\n",
    "display_scores(lin_rmse_scores)"
   ]
  },
  {
   "cell_type": "markdown",
   "metadata": {},
   "source": [
    "###### Scikit-Learn cross-validation features expect a utility function (greater is better) rather than a cost function (lower is better), so the scoring function is actually the opposite of the MSE (i.e., a negative value), which is why the preceding code computes (-) ve scores before calculating the square root."
   ]
  },
  {
   "cell_type": "markdown",
   "metadata": {},
   "source": [
    "#####  Decision Tree"
   ]
  },
  {
   "cell_type": "code",
   "execution_count": 25,
   "metadata": {},
   "outputs": [
    {
     "data": {
      "text/plain": [
       "DecisionTreeRegressor(ccp_alpha=0.0, criterion='mse', max_depth=None,\n",
       "                      max_features=None, max_leaf_nodes=None,\n",
       "                      min_impurity_decrease=0.0, min_impurity_split=None,\n",
       "                      min_samples_leaf=1, min_samples_split=2,\n",
       "                      min_weight_fraction_leaf=0.0, presort='deprecated',\n",
       "                      random_state=None, splitter='best')"
      ]
     },
     "execution_count": 25,
     "metadata": {},
     "output_type": "execute_result"
    }
   ],
   "source": [
    "from sklearn.tree import DecisionTreeRegressor\n",
    "tree_reg = DecisionTreeRegressor()\n",
    "tree_reg.fit(X_train,y_train)"
   ]
  },
  {
   "cell_type": "code",
   "execution_count": 26,
   "metadata": {},
   "outputs": [
    {
     "data": {
      "text/plain": [
       "0.0438437191153613"
      ]
     },
     "execution_count": 26,
     "metadata": {},
     "output_type": "execute_result"
    }
   ],
   "source": [
    "predictions_tree = tree_reg.predict(X_test)\n",
    "tree_mse = mean_squared_error(y_test,predictions_tree)\n",
    "tree_rmse = np.sqrt(tree_mse)\n",
    "tree_rmse"
   ]
  },
  {
   "cell_type": "code",
   "execution_count": 63,
   "metadata": {},
   "outputs": [],
   "source": [
    "#As we can see that the DT regression is tend to overfit\n",
    "scores = cross_val_score(tree_reg,X_train,y_train,scoring='neg_mean_squared_error',cv = 10)\n",
    "tree_rmse_scores = np.sqrt(-scores)"
   ]
  },
  {
   "cell_type": "code",
   "execution_count": 64,
   "metadata": {},
   "outputs": [
    {
     "name": "stdout",
     "output_type": "stream",
     "text": [
      "Scores [0.04673778 0.04604586 0.0488747  0.04687166 0.04464845 0.0469026\n",
      " 0.04842677 0.04802995 0.04647517 0.04946228]\n",
      "Mean 0.04724752196862607\n",
      "Standard Deviation 0.0013737351438299506\n"
     ]
    }
   ],
   "source": [
    "display_scores(tree_rmse_scores)"
   ]
  },
  {
   "cell_type": "code",
   "execution_count": 56,
   "metadata": {},
   "outputs": [
    {
     "data": {
      "text/plain": [
       "GridSearchCV(cv=10, error_score=nan,\n",
       "             estimator=DecisionTreeRegressor(ccp_alpha=0.0, criterion='mse',\n",
       "                                             max_depth=None, max_features=None,\n",
       "                                             max_leaf_nodes=None,\n",
       "                                             min_impurity_decrease=0.0,\n",
       "                                             min_impurity_split=None,\n",
       "                                             min_samples_leaf=1,\n",
       "                                             min_samples_split=2,\n",
       "                                             min_weight_fraction_leaf=0.0,\n",
       "                                             presort='deprecated',\n",
       "                                             random_state=None,\n",
       "                                             splitter='best'),\n",
       "             iid='deprecated', n_jobs=-1,\n",
       "             param_grid=[{'max_depth': [2, 3, 4, 5],\n",
       "                          'max_leaf_nodes': [2, 3, 5, 6],\n",
       "                          'min_samples_split': [2, 5, 10, 15]}],\n",
       "             pre_dispatch='2*n_jobs', refit=True, return_train_score=False,\n",
       "             scoring='neg_mean_squared_error', verbose=0)"
      ]
     },
     "execution_count": 56,
     "metadata": {},
     "output_type": "execute_result"
    }
   ],
   "source": [
    "param_grid = [{\n",
    "    \"max_depth\" : [2,3,4,5], \n",
    "    \"max_leaf_nodes\": [2,3,5,6],\n",
    "    \"min_samples_split\": [2,5,10,15]\n",
    "}]\n",
    "grid_search_DTR = GridSearchCV(tree_reg,param_grid, cv=10,scoring = 'neg_mean_squared_error',n_jobs = -1)\n",
    "grid_search_DTR.fit(X_train,y_train.values.ravel())"
   ]
  },
  {
   "cell_type": "code",
   "execution_count": 57,
   "metadata": {},
   "outputs": [
    {
     "data": {
      "text/plain": [
       "{'max_depth': 3, 'max_leaf_nodes': 6, 'min_samples_split': 5}"
      ]
     },
     "execution_count": 57,
     "metadata": {},
     "output_type": "execute_result"
    }
   ],
   "source": [
    "grid_search_DTR.best_params_"
   ]
  },
  {
   "cell_type": "code",
   "execution_count": 58,
   "metadata": {},
   "outputs": [
    {
     "data": {
      "text/plain": [
       "DecisionTreeRegressor(ccp_alpha=0.0, criterion='mse', max_depth=3,\n",
       "                      max_features=None, max_leaf_nodes=6,\n",
       "                      min_impurity_decrease=0.0, min_impurity_split=None,\n",
       "                      min_samples_leaf=1, min_samples_split=5,\n",
       "                      min_weight_fraction_leaf=0.0, presort='deprecated',\n",
       "                      random_state=None, splitter='best')"
      ]
     },
     "execution_count": 58,
     "metadata": {},
     "output_type": "execute_result"
    }
   ],
   "source": [
    "grid_search_DTR.best_estimator_"
   ]
  },
  {
   "cell_type": "code",
   "execution_count": 59,
   "metadata": {},
   "outputs": [
    {
     "name": "stdout",
     "output_type": "stream",
     "text": [
      "0.7922739713637429 {'max_depth': 2, 'max_leaf_nodes': 2, 'min_samples_split': 2}\n",
      "0.7922739713637432 {'max_depth': 2, 'max_leaf_nodes': 2, 'min_samples_split': 5}\n",
      "0.7922739713637431 {'max_depth': 2, 'max_leaf_nodes': 2, 'min_samples_split': 10}\n",
      "0.792273971363743 {'max_depth': 2, 'max_leaf_nodes': 2, 'min_samples_split': 15}\n",
      "0.7713770543748071 {'max_depth': 2, 'max_leaf_nodes': 3, 'min_samples_split': 2}\n",
      "0.7713770543748071 {'max_depth': 2, 'max_leaf_nodes': 3, 'min_samples_split': 5}\n",
      "0.7713770543748069 {'max_depth': 2, 'max_leaf_nodes': 3, 'min_samples_split': 10}\n",
      "0.771377054374807 {'max_depth': 2, 'max_leaf_nodes': 3, 'min_samples_split': 15}\n",
      "0.7589523832632673 {'max_depth': 2, 'max_leaf_nodes': 5, 'min_samples_split': 2}\n",
      "0.7589523832632673 {'max_depth': 2, 'max_leaf_nodes': 5, 'min_samples_split': 5}\n",
      "0.7589523832632673 {'max_depth': 2, 'max_leaf_nodes': 5, 'min_samples_split': 10}\n",
      "0.7589523832632673 {'max_depth': 2, 'max_leaf_nodes': 5, 'min_samples_split': 15}\n",
      "0.7589523832632674 {'max_depth': 2, 'max_leaf_nodes': 6, 'min_samples_split': 2}\n",
      "0.7589523832632673 {'max_depth': 2, 'max_leaf_nodes': 6, 'min_samples_split': 5}\n",
      "0.7589523832632673 {'max_depth': 2, 'max_leaf_nodes': 6, 'min_samples_split': 10}\n",
      "0.7589523832632673 {'max_depth': 2, 'max_leaf_nodes': 6, 'min_samples_split': 15}\n",
      "0.7922739713637431 {'max_depth': 3, 'max_leaf_nodes': 2, 'min_samples_split': 2}\n",
      "0.7922739713637433 {'max_depth': 3, 'max_leaf_nodes': 2, 'min_samples_split': 5}\n",
      "0.7922739713637431 {'max_depth': 3, 'max_leaf_nodes': 2, 'min_samples_split': 10}\n",
      "0.7922739713637432 {'max_depth': 3, 'max_leaf_nodes': 2, 'min_samples_split': 15}\n",
      "0.7713770543748067 {'max_depth': 3, 'max_leaf_nodes': 3, 'min_samples_split': 2}\n",
      "0.771377054374807 {'max_depth': 3, 'max_leaf_nodes': 3, 'min_samples_split': 5}\n",
      "0.771377054374807 {'max_depth': 3, 'max_leaf_nodes': 3, 'min_samples_split': 10}\n",
      "0.7713770543748071 {'max_depth': 3, 'max_leaf_nodes': 3, 'min_samples_split': 15}\n",
      "0.7431887128658848 {'max_depth': 3, 'max_leaf_nodes': 5, 'min_samples_split': 2}\n",
      "0.7431887128658848 {'max_depth': 3, 'max_leaf_nodes': 5, 'min_samples_split': 5}\n",
      "0.7431887128658847 {'max_depth': 3, 'max_leaf_nodes': 5, 'min_samples_split': 10}\n",
      "0.7431887128658847 {'max_depth': 3, 'max_leaf_nodes': 5, 'min_samples_split': 15}\n",
      "0.7232862999194992 {'max_depth': 3, 'max_leaf_nodes': 6, 'min_samples_split': 2}\n",
      "0.723286299919499 {'max_depth': 3, 'max_leaf_nodes': 6, 'min_samples_split': 5}\n",
      "0.723286299919499 {'max_depth': 3, 'max_leaf_nodes': 6, 'min_samples_split': 10}\n",
      "0.7232862999194991 {'max_depth': 3, 'max_leaf_nodes': 6, 'min_samples_split': 15}\n",
      "0.7922739713637431 {'max_depth': 4, 'max_leaf_nodes': 2, 'min_samples_split': 2}\n",
      "0.792273971363743 {'max_depth': 4, 'max_leaf_nodes': 2, 'min_samples_split': 5}\n",
      "0.792273971363743 {'max_depth': 4, 'max_leaf_nodes': 2, 'min_samples_split': 10}\n",
      "0.792273971363743 {'max_depth': 4, 'max_leaf_nodes': 2, 'min_samples_split': 15}\n",
      "0.7713770543748071 {'max_depth': 4, 'max_leaf_nodes': 3, 'min_samples_split': 2}\n",
      "0.7713770543748071 {'max_depth': 4, 'max_leaf_nodes': 3, 'min_samples_split': 5}\n",
      "0.7713770543748071 {'max_depth': 4, 'max_leaf_nodes': 3, 'min_samples_split': 10}\n",
      "0.7713770543748069 {'max_depth': 4, 'max_leaf_nodes': 3, 'min_samples_split': 15}\n",
      "0.7431887128658847 {'max_depth': 4, 'max_leaf_nodes': 5, 'min_samples_split': 2}\n",
      "0.7431887128658847 {'max_depth': 4, 'max_leaf_nodes': 5, 'min_samples_split': 5}\n",
      "0.7431887128658848 {'max_depth': 4, 'max_leaf_nodes': 5, 'min_samples_split': 10}\n",
      "0.7431887128658847 {'max_depth': 4, 'max_leaf_nodes': 5, 'min_samples_split': 15}\n",
      "0.7232862999194992 {'max_depth': 4, 'max_leaf_nodes': 6, 'min_samples_split': 2}\n",
      "0.7232862999194992 {'max_depth': 4, 'max_leaf_nodes': 6, 'min_samples_split': 5}\n",
      "0.7232862999194992 {'max_depth': 4, 'max_leaf_nodes': 6, 'min_samples_split': 10}\n",
      "0.7232862999194992 {'max_depth': 4, 'max_leaf_nodes': 6, 'min_samples_split': 15}\n",
      "0.7922739713637432 {'max_depth': 5, 'max_leaf_nodes': 2, 'min_samples_split': 2}\n",
      "0.7922739713637431 {'max_depth': 5, 'max_leaf_nodes': 2, 'min_samples_split': 5}\n",
      "0.792273971363743 {'max_depth': 5, 'max_leaf_nodes': 2, 'min_samples_split': 10}\n",
      "0.792273971363743 {'max_depth': 5, 'max_leaf_nodes': 2, 'min_samples_split': 15}\n",
      "0.7713770543748069 {'max_depth': 5, 'max_leaf_nodes': 3, 'min_samples_split': 2}\n",
      "0.7713770543748071 {'max_depth': 5, 'max_leaf_nodes': 3, 'min_samples_split': 5}\n",
      "0.7713770543748069 {'max_depth': 5, 'max_leaf_nodes': 3, 'min_samples_split': 10}\n",
      "0.7713770543748071 {'max_depth': 5, 'max_leaf_nodes': 3, 'min_samples_split': 15}\n",
      "0.7431887128658847 {'max_depth': 5, 'max_leaf_nodes': 5, 'min_samples_split': 2}\n",
      "0.7431887128658847 {'max_depth': 5, 'max_leaf_nodes': 5, 'min_samples_split': 5}\n",
      "0.7431887128658847 {'max_depth': 5, 'max_leaf_nodes': 5, 'min_samples_split': 10}\n",
      "0.7431887128658847 {'max_depth': 5, 'max_leaf_nodes': 5, 'min_samples_split': 15}\n",
      "0.723286299919499 {'max_depth': 5, 'max_leaf_nodes': 6, 'min_samples_split': 2}\n",
      "0.723286299919499 {'max_depth': 5, 'max_leaf_nodes': 6, 'min_samples_split': 5}\n",
      "0.723286299919499 {'max_depth': 5, 'max_leaf_nodes': 6, 'min_samples_split': 10}\n",
      "0.7232862999194991 {'max_depth': 5, 'max_leaf_nodes': 6, 'min_samples_split': 15}\n"
     ]
    }
   ],
   "source": [
    "cvres = grid_search_DTR.cv_results_\n",
    "for mean_score,params in zip(cvres['mean_test_score'],cvres['params']):\n",
    "    print(np.sqrt(-mean_score),params)"
   ]
  },
  {
   "cell_type": "code",
   "execution_count": 60,
   "metadata": {},
   "outputs": [
    {
     "data": {
      "text/plain": [
       "array([0.4689074 , 0.26250952, 0.        , 0.12030751, 0.14827557,\n",
       "       0.        , 0.        , 0.        , 0.        , 0.        ,\n",
       "       0.        , 0.        , 0.        , 0.        ])"
      ]
     },
     "execution_count": 60,
     "metadata": {},
     "output_type": "execute_result"
    }
   ],
   "source": [
    "feature_importances =  grid_search_DTR.best_estimator_.feature_importances_\n",
    "feature_importances"
   ]
  },
  {
   "cell_type": "code",
   "execution_count": 61,
   "metadata": {},
   "outputs": [
    {
     "data": {
      "text/plain": [
       "[(0.46890740164883715, 'MWG'),\n",
       " (0.2625095200432543, 'NWG'),\n",
       " (0.1482755702787822, 'NDIMC'),\n",
       " (0.12030750802912632, 'MDIMC'),\n",
       " (0.0, 'VWN'),\n",
       " (0.0, 'VWM'),\n",
       " (0.0, 'STRN'),\n",
       " (0.0, 'STRM'),\n",
       " (0.0, 'SB'),\n",
       " (0.0, 'SA'),\n",
       " (0.0, 'NDIMB'),\n",
       " (0.0, 'MDIMA'),\n",
       " (0.0, 'KWI'),\n",
       " (0.0, 'KWG')]"
      ]
     },
     "execution_count": 61,
     "metadata": {},
     "output_type": "execute_result"
    }
   ],
   "source": [
    "sorted(zip(feature_importances, df3), reverse=True)"
   ]
  },
  {
   "cell_type": "markdown",
   "metadata": {},
   "source": [
    "##### Random Forest"
   ]
  },
  {
   "cell_type": "code",
   "execution_count": 31,
   "metadata": {},
   "outputs": [
    {
     "data": {
      "text/plain": [
       "RandomForestRegressor(bootstrap=True, ccp_alpha=0.0, criterion='mse',\n",
       "                      max_depth=None, max_features='auto', max_leaf_nodes=None,\n",
       "                      max_samples=None, min_impurity_decrease=0.0,\n",
       "                      min_impurity_split=None, min_samples_leaf=1,\n",
       "                      min_samples_split=2, min_weight_fraction_leaf=0.0,\n",
       "                      n_estimators=100, n_jobs=None, oob_score=False,\n",
       "                      random_state=None, verbose=0, warm_start=False)"
      ]
     },
     "execution_count": 31,
     "metadata": {},
     "output_type": "execute_result"
    }
   ],
   "source": [
    "from sklearn.ensemble import RandomForestRegressor\n",
    "forest_reg = RandomForestRegressor()\n",
    "forest_reg.fit(X_train,y_train.values.ravel())"
   ]
  },
  {
   "cell_type": "code",
   "execution_count": 32,
   "metadata": {},
   "outputs": [
    {
     "data": {
      "text/plain": [
       "0.035561720992151644"
      ]
     },
     "execution_count": 32,
     "metadata": {},
     "output_type": "execute_result"
    }
   ],
   "source": [
    "forest_reg_predictions = forest_reg.predict(X_test)\n",
    "forest_mse = mean_squared_error(y_test,forest_reg_predictions)\n",
    "forest_rmse = np.sqrt(forest_mse)\n",
    "forest_rmse"
   ]
  },
  {
   "cell_type": "code",
   "execution_count": 33,
   "metadata": {},
   "outputs": [
    {
     "name": "stdout",
     "output_type": "stream",
     "text": [
      "Scores [0.0382999  0.03814652 0.03914474 0.03846135 0.03801077 0.03723144\n",
      " 0.03718056 0.03887488 0.03676163 0.03992916]\n",
      "Mean 0.038204094110487974\n",
      "Standard Deviation 0.0009220100440545258\n"
     ]
    }
   ],
   "source": [
    "forest_scores = cross_val_score(forest_reg,X_train,y_train.values.ravel(),scoring = 'neg_mean_squared_error',cv =10, n_jobs=-1)\n",
    "forest_rmse_scores = np.sqrt(-forest_scores)\n",
    "display_scores(forest_rmse_scores)"
   ]
  },
  {
   "cell_type": "code",
   "execution_count": 34,
   "metadata": {},
   "outputs": [
    {
     "data": {
      "text/plain": [
       "GridSearchCV(cv=10, error_score=nan,\n",
       "             estimator=RandomForestRegressor(bootstrap=True, ccp_alpha=0.0,\n",
       "                                             criterion='mse', max_depth=None,\n",
       "                                             max_features='auto',\n",
       "                                             max_leaf_nodes=None,\n",
       "                                             max_samples=None,\n",
       "                                             min_impurity_decrease=0.0,\n",
       "                                             min_impurity_split=None,\n",
       "                                             min_samples_leaf=1,\n",
       "                                             min_samples_split=2,\n",
       "                                             min_weight_fraction_leaf=0.0,\n",
       "                                             n_estimators=100, n_jobs=None,\n",
       "                                             oob_score=False, random_state=None,\n",
       "                                             verbose=0, warm_start=False),\n",
       "             iid='deprecated', n_jobs=-1,\n",
       "             param_grid=[{'max_features': [2, 4, 6, 8],\n",
       "                          'n_estimators': [3, 10, 30]},\n",
       "                         {'bootstrap': [False], 'max_features': [2, 3, 4],\n",
       "                          'n_estimators': [3, 10]}],\n",
       "             pre_dispatch='2*n_jobs', refit=True, return_train_score=False,\n",
       "             scoring='neg_mean_squared_error', verbose=0)"
      ]
     },
     "execution_count": 34,
     "metadata": {},
     "output_type": "execute_result"
    }
   ],
   "source": [
    "param_grid = [\n",
    "    {'n_estimators':[3,10,30], 'max_features':[2,4,6,8]},\n",
    "    {'bootstrap':[False],'n_estimators':[3,10],'max_features':[2,3,4]},\n",
    "]\n",
    "forest_reg = RandomForestRegressor()\n",
    "grid_search = GridSearchCV(forest_reg,param_grid, cv=10,scoring = 'neg_mean_squared_error',n_jobs = -1)\n",
    "grid_search.fit(X_train,y_train.values.ravel())"
   ]
  },
  {
   "cell_type": "code",
   "execution_count": 35,
   "metadata": {},
   "outputs": [],
   "source": [
    "grid_search_RFR = grid_search"
   ]
  },
  {
   "cell_type": "code",
   "execution_count": 36,
   "metadata": {},
   "outputs": [
    {
     "data": {
      "text/plain": [
       "{'max_features': 8, 'n_estimators': 30}"
      ]
     },
     "execution_count": 36,
     "metadata": {},
     "output_type": "execute_result"
    }
   ],
   "source": [
    "grid_search_RFR.best_params_"
   ]
  },
  {
   "cell_type": "code",
   "execution_count": 37,
   "metadata": {},
   "outputs": [
    {
     "data": {
      "text/plain": [
       "RandomForestRegressor(bootstrap=True, ccp_alpha=0.0, criterion='mse',\n",
       "                      max_depth=None, max_features=8, max_leaf_nodes=None,\n",
       "                      max_samples=None, min_impurity_decrease=0.0,\n",
       "                      min_impurity_split=None, min_samples_leaf=1,\n",
       "                      min_samples_split=2, min_weight_fraction_leaf=0.0,\n",
       "                      n_estimators=30, n_jobs=None, oob_score=False,\n",
       "                      random_state=None, verbose=0, warm_start=False)"
      ]
     },
     "execution_count": 37,
     "metadata": {},
     "output_type": "execute_result"
    }
   ],
   "source": [
    "grid_search_RFR.best_estimator_"
   ]
  },
  {
   "cell_type": "code",
   "execution_count": 38,
   "metadata": {},
   "outputs": [
    {
     "name": "stdout",
     "output_type": "stream",
     "text": [
      "0.33631509125226355 {'max_features': 2, 'n_estimators': 3}\n",
      "0.24492665431985347 {'max_features': 2, 'n_estimators': 10}\n",
      "0.2182942606741138 {'max_features': 2, 'n_estimators': 30}\n",
      "0.173220590255252 {'max_features': 4, 'n_estimators': 3}\n",
      "0.11686327688662185 {'max_features': 4, 'n_estimators': 10}\n",
      "0.09456489187195635 {'max_features': 4, 'n_estimators': 30}\n",
      "0.09833138307895295 {'max_features': 6, 'n_estimators': 3}\n",
      "0.06933427869564632 {'max_features': 6, 'n_estimators': 10}\n",
      "0.05911190473551421 {'max_features': 6, 'n_estimators': 30}\n",
      "0.0692574579263653 {'max_features': 8, 'n_estimators': 3}\n",
      "0.05279502853737686 {'max_features': 8, 'n_estimators': 10}\n",
      "0.046857707056099214 {'max_features': 8, 'n_estimators': 30}\n",
      "0.3079663748462624 {'bootstrap': False, 'max_features': 2, 'n_estimators': 3}\n",
      "0.2211183709542236 {'bootstrap': False, 'max_features': 2, 'n_estimators': 10}\n",
      "0.21016178048060125 {'bootstrap': False, 'max_features': 3, 'n_estimators': 3}\n",
      "0.14633059642273777 {'bootstrap': False, 'max_features': 3, 'n_estimators': 10}\n",
      "0.1481822590896141 {'bootstrap': False, 'max_features': 4, 'n_estimators': 3}\n",
      "0.09791409805332078 {'bootstrap': False, 'max_features': 4, 'n_estimators': 10}\n"
     ]
    }
   ],
   "source": [
    "cvres = grid_search_RFR.cv_results_\n",
    "for mean_score,params in zip(cvres['mean_test_score'],cvres['params']):\n",
    "    print(np.sqrt(-mean_score),params)"
   ]
  },
  {
   "cell_type": "code",
   "execution_count": 39,
   "metadata": {},
   "outputs": [
    {
     "data": {
      "text/plain": [
       "array([0.23459613, 0.17953348, 0.02190322, 0.19327627, 0.19411714,\n",
       "       0.00636184, 0.00580521, 0.00494399, 0.0371237 , 0.01993216,\n",
       "       0.02410804, 0.00295018, 0.04781963, 0.02752901])"
      ]
     },
     "execution_count": 39,
     "metadata": {},
     "output_type": "execute_result"
    }
   ],
   "source": [
    "feature_importances =  grid_search_RFR.best_estimator_.feature_importances_\n",
    "feature_importances"
   ]
  },
  {
   "cell_type": "code",
   "execution_count": 40,
   "metadata": {},
   "outputs": [
    {
     "data": {
      "text/plain": [
       "[(0.23459613437729288, 'MWG'),\n",
       " (0.19411714195476623, 'NDIMC'),\n",
       " (0.19327627174992315, 'MDIMC'),\n",
       " (0.17953347745980117, 'NWG'),\n",
       " (0.04781962900292689, 'SA'),\n",
       " (0.03712370221992084, 'VWM'),\n",
       " (0.027529009528785838, 'SB'),\n",
       " (0.02410803963017124, 'STRM'),\n",
       " (0.02190321868490509, 'KWG'),\n",
       " (0.019932157744179734, 'VWN'),\n",
       " (0.0063618406798500605, 'MDIMA'),\n",
       " (0.0058052050771369166, 'NDIMB'),\n",
       " (0.004943988085585614, 'KWI'),\n",
       " (0.002950183804754479, 'STRN')]"
      ]
     },
     "execution_count": 40,
     "metadata": {},
     "output_type": "execute_result"
    }
   ],
   "source": [
    "sorted(zip(feature_importances, df3), reverse=True)"
   ]
  },
  {
   "cell_type": "markdown",
   "metadata": {},
   "source": [
    "##### Stochastic Gradient Descent Regressor"
   ]
  },
  {
   "cell_type": "code",
   "execution_count": 41,
   "metadata": {},
   "outputs": [
    {
     "data": {
      "text/plain": [
       "SGDRegressor(alpha=0.0001, average=False, early_stopping=False, epsilon=0.1,\n",
       "             eta0=0.01, fit_intercept=True, l1_ratio=0.15,\n",
       "             learning_rate='invscaling', loss='squared_loss', max_iter=1000,\n",
       "             n_iter_no_change=5, penalty='l2', power_t=0.25, random_state=None,\n",
       "             shuffle=True, tol=0.001, validation_fraction=0.1, verbose=0,\n",
       "             warm_start=False)"
      ]
     },
     "execution_count": 41,
     "metadata": {},
     "output_type": "execute_result"
    }
   ],
   "source": [
    "from sklearn.linear_model import SGDRegressor\n",
    "SGDR = SGDRegressor(max_iter=1000, tol=1e-3)\n",
    "SGDR.fit(X_train,y_train.values.ravel())"
   ]
  },
  {
   "cell_type": "code",
   "execution_count": 42,
   "metadata": {},
   "outputs": [
    {
     "data": {
      "text/plain": [
       "138232999463.5757"
      ]
     },
     "execution_count": 42,
     "metadata": {},
     "output_type": "execute_result"
    }
   ],
   "source": [
    "predictions_SGD = SGDR.predict(X_test)\n",
    "SGD_mse = mean_squared_error(y_test,predictions_SGD)\n",
    "SGD_rmse = np.sqrt(SGD_mse)\n",
    "SGD_rmse"
   ]
  },
  {
   "cell_type": "code",
   "execution_count": 43,
   "metadata": {},
   "outputs": [
    {
     "name": "stdout",
     "output_type": "stream",
     "text": [
      "Scores [4.86765290e+11 4.39081309e+11 4.01033858e+11 4.90483840e+11\n",
      " 4.82021020e+11 1.77258411e+11 2.69275050e+11 2.01203879e+12\n",
      " 3.22095295e+11 1.81358488e+11]\n",
      "Mean 526141135381.54456\n",
      "Standard Deviation 508340505709.3842\n"
     ]
    }
   ],
   "source": [
    "SGD_scores = cross_val_score(SGDR,X_train,y_train.values.ravel(),scoring = 'neg_mean_squared_error',cv =10, n_jobs=-1)\n",
    "SGD_rmse_scores = np.sqrt(-SGD_scores)\n",
    "display_scores(SGD_rmse_scores)"
   ]
  },
  {
   "cell_type": "code",
   "execution_count": 44,
   "metadata": {},
   "outputs": [
    {
     "data": {
      "text/plain": [
       "GridSearchCV(cv=10, error_score=nan,\n",
       "             estimator=SGDRegressor(alpha=0.0001, average=False,\n",
       "                                    early_stopping=False, epsilon=0.1,\n",
       "                                    eta0=0.01, fit_intercept=True,\n",
       "                                    l1_ratio=0.15, learning_rate='invscaling',\n",
       "                                    loss='squared_loss', max_iter=1000,\n",
       "                                    n_iter_no_change=5, penalty='l2',\n",
       "                                    power_t=0.25, random_state=None,\n",
       "                                    shuffle=True, tol=0.001,\n",
       "                                    validation_fraction=0.1, verbose=0,\n",
       "                                    warm_start=False),\n",
       "             iid='deprecated', n_jobs=-1,\n",
       "             param_grid=[{'max_iter': [1000],\n",
       "                          'tol': [0.001, 0.0001, 1e-05, 1e-06]}],\n",
       "             pre_dispatch='2*n_jobs', refit=True, return_train_score=False,\n",
       "             scoring='neg_mean_squared_error', verbose=0)"
      ]
     },
     "execution_count": 44,
     "metadata": {},
     "output_type": "execute_result"
    }
   ],
   "source": [
    "param_grid_SGD = [\n",
    "    {'max_iter':[1000], 'tol':[1e-3,1e-4,1e-5,1e-6]},\n",
    "]\n",
    "grid_search_SGD = GridSearchCV(SGDR,param_grid_SGD, cv=10,scoring = 'neg_mean_squared_error',n_jobs = -1)\n",
    "grid_search_SGD.fit(X_train,y_train.values.ravel())"
   ]
  },
  {
   "cell_type": "code",
   "execution_count": 45,
   "metadata": {},
   "outputs": [
    {
     "data": {
      "text/plain": [
       "{'max_iter': 1000, 'tol': 1e-06}"
      ]
     },
     "execution_count": 45,
     "metadata": {},
     "output_type": "execute_result"
    }
   ],
   "source": [
    "grid_search_SGD.best_params_"
   ]
  },
  {
   "cell_type": "code",
   "execution_count": 46,
   "metadata": {},
   "outputs": [
    {
     "data": {
      "text/plain": [
       "SGDRegressor(alpha=0.0001, average=False, early_stopping=False, epsilon=0.1,\n",
       "             eta0=0.01, fit_intercept=True, l1_ratio=0.15,\n",
       "             learning_rate='invscaling', loss='squared_loss', max_iter=1000,\n",
       "             n_iter_no_change=5, penalty='l2', power_t=0.25, random_state=None,\n",
       "             shuffle=True, tol=1e-06, validation_fraction=0.1, verbose=0,\n",
       "             warm_start=False)"
      ]
     },
     "execution_count": 46,
     "metadata": {},
     "output_type": "execute_result"
    }
   ],
   "source": [
    "grid_search_SGD.best_estimator_"
   ]
  },
  {
   "cell_type": "code",
   "execution_count": 47,
   "metadata": {},
   "outputs": [
    {
     "name": "stdout",
     "output_type": "stream",
     "text": [
      "708914473598.1207 {'max_iter': 1000, 'tol': 0.001}\n",
      "770279911704.8182 {'max_iter': 1000, 'tol': 0.0001}\n",
      "815649535476.2078 {'max_iter': 1000, 'tol': 1e-05}\n",
      "437088348836.1265 {'max_iter': 1000, 'tol': 1e-06}\n"
     ]
    }
   ],
   "source": [
    "cvres = grid_search_SGD.cv_results_\n",
    "for mean_score,params in zip(cvres['mean_test_score'],cvres['params']):\n",
    "    print(np.sqrt(-mean_score),params)"
   ]
  },
  {
   "cell_type": "markdown",
   "metadata": {},
   "source": [
    "##### Support Vector Regressor"
   ]
  },
  {
   "cell_type": "code",
   "execution_count": 48,
   "metadata": {},
   "outputs": [
    {
     "data": {
      "text/plain": [
       "SVR(C=1.0, cache_size=200, coef0=0.0, degree=3, epsilon=0.2, gamma='scale',\n",
       "    kernel='rbf', max_iter=-1, shrinking=True, tol=0.001, verbose=False)"
      ]
     },
     "execution_count": 48,
     "metadata": {},
     "output_type": "execute_result"
    }
   ],
   "source": [
    "from sklearn.svm import SVR\n",
    "SVr = SVR(C=1.0, epsilon=0.2)\n",
    "SVr.fit(X_train,y_train.values.ravel())"
   ]
  },
  {
   "cell_type": "code",
   "execution_count": 49,
   "metadata": {},
   "outputs": [
    {
     "data": {
      "text/plain": [
       "0.39489794101934445"
      ]
     },
     "execution_count": 49,
     "metadata": {},
     "output_type": "execute_result"
    }
   ],
   "source": [
    "predictions_SVR = SVr.predict(X_test)\n",
    "SVR_mse = mean_squared_error(y_test,predictions_SVR)\n",
    "SVR_rmse = np.sqrt(SVR_mse)\n",
    "SVR_rmse"
   ]
  },
  {
   "cell_type": "code",
   "execution_count": 50,
   "metadata": {},
   "outputs": [
    {
     "name": "stdout",
     "output_type": "stream",
     "text": [
      "Scores [0.4005359  0.39305122 0.40265463 0.40006809 0.39610008 0.39706871\n",
      " 0.40208646 0.40165124 0.40212151 0.40059679]\n",
      "Mean 0.39959346297700604\n",
      "Standard Deviation 0.002995169683622158\n"
     ]
    }
   ],
   "source": [
    "SVR_scores = cross_val_score(SVr,X_train,y_train.values.ravel(),scoring = 'neg_mean_squared_error',cv =10, n_jobs=-1)\n",
    "SVR_rmse_scores = np.sqrt(-SVR_scores)\n",
    "display_scores(SVR_rmse_scores)"
   ]
  },
  {
   "cell_type": "markdown",
   "metadata": {},
   "source": [
    "#### Conclusion\n",
    "Linear Regression -> 0.651\n",
    "\n",
    "Decision Tree -> 0.043 (After pruning -> 0.7233)\n",
    "\n",
    "Random Forest -> 0.036 (After pruning -> 0.0468)\n",
    "\n",
    "Stochastic Gradient Descent -> 1.38e+11\n",
    "\n",
    "Support Vector Regressor -> 0.395\n"
   ]
  },
  {
   "cell_type": "markdown",
   "metadata": {},
   "source": [
    "### After comparining all the five regression techniques following are our observations :\n",
    "1: Stochastic GD is underfitting.\n",
    "\n",
    "2: Decision Tree is overfitting on default parameters. After pruning it we had the RMSE of 0.7233 which is not the best among all the techniques used.\n",
    "\n",
    "3: Random Forest is overfitting on all the parameters used under GRIDSEARCH CV.\n",
    "\n",
    "4: Linear Regression is giving RMSE of 0.651 which is not the best but fairly good.\n",
    "\n",
    "5: SVR is the best technique used in this dataset, it gives us RMSE of 0.395"
   ]
  },
  {
   "cell_type": "code",
   "execution_count": null,
   "metadata": {},
   "outputs": [],
   "source": []
  }
 ],
 "metadata": {
  "kernelspec": {
   "display_name": "Python 3",
   "language": "python",
   "name": "python3"
  },
  "language_info": {
   "codemirror_mode": {
    "name": "ipython",
    "version": 3
   },
   "file_extension": ".py",
   "mimetype": "text/x-python",
   "name": "python",
   "nbconvert_exporter": "python",
   "pygments_lexer": "ipython3",
   "version": "3.7.3"
  }
 },
 "nbformat": 4,
 "nbformat_minor": 2
}
